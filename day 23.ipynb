{
 "cells": [
  {
   "cell_type": "code",
   "execution_count": 3,
   "id": "257f6806-7382-4598-8c6b-e8ff3f0fb5d3",
   "metadata": {},
   "outputs": [],
   "source": [
    "import cv2\n",
    "vid = cv2.VideoCapture(0)\n",
    "\n",
    "while True:\n",
    "    ret, frame = vid.read() # this captures live image\n",
    "    \n",
    "    vid_r = frame[:,:,-1]\n",
    "    vid_gray = cv2.cvtColor(frame,cv2.COLOR_BGR2GRAY)\n",
    "    VID_red = cv2.subtract(vid_r,vid_gray)\n",
    "\n",
    "# write your code here\n",
    "\n",
    "    cv2.imshow('frame', VID_red)\n",
    "\n",
    "    # the 'q' button is set as the quit button\n",
    "    if cv2.waitKey(1) & 0xFF == ord('q'):\n",
    "        break\n",
    "\n",
    "vid.release()\n",
    "cv2.destroyAllWindows()"
   ]
  },
  {
   "cell_type": "code",
   "execution_count": null,
   "id": "eedec238-302b-4852-acdf-f3445129b1ba",
   "metadata": {},
   "outputs": [],
   "source": []
  }
 ],
 "metadata": {
  "kernelspec": {
   "display_name": "Python 3",
   "language": "python",
   "name": "python3"
  },
  "language_info": {
   "codemirror_mode": {
    "name": "ipython",
    "version": 3
   },
   "file_extension": ".py",
   "mimetype": "text/x-python",
   "name": "python",
   "nbconvert_exporter": "python",
   "pygments_lexer": "ipython3",
   "version": "3.8.8"
  }
 },
 "nbformat": 4,
 "nbformat_minor": 5
}
